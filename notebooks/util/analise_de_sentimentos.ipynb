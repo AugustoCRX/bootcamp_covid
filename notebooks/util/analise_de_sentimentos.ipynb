{
  "cells": [
    {
      "cell_type": "markdown",
      "metadata": {
        "id": "view-in-github",
        "colab_type": "text"
      },
      "source": [
        "<a href=\"https://colab.research.google.com/github/AugustoCRX/bootcamp_covid/blob/main/notebooks/util/analise_de_sentimentos.ipynb\" target=\"_parent\"><img src=\"https://colab.research.google.com/assets/colab-badge.svg\" alt=\"Open In Colab\"/></a>"
      ]
    },
    {
      "cell_type": "markdown",
      "metadata": {
        "id": "uTA-AJt1Fin7"
      },
      "source": [
        "# Bootcamp 2"
      ]
    },
    {
      "cell_type": "markdown",
      "metadata": {
        "id": "xFo-RSqaFScE"
      },
      "source": [
        "## Análise de sentimento em publicações do twitter"
      ]
    },
    {
      "cell_type": "markdown",
      "metadata": {
        "id": "MIFx93y8Ginl"
      },
      "source": [
        "### Sobre o modelo\n",
        "\n",
        "O objetivo deste modelo é realizar análise de sentimento em publicações do twitter realizadas durante a pandemia do COVID-19, no período de ..."
      ]
    },
    {
      "cell_type": "markdown",
      "metadata": {
        "id": "uFBpYf1LHCq7"
      },
      "source": [
        "### Preparação do ambiente\n",
        "\n",
        "Para o dataset de treino, acesse o link https://www.kaggle.com/datasets/luisdiegofv97/imdb-dataset-of-50k-movie-reviews-spanish?resource=download"
      ]
    },
    {
      "cell_type": "code",
      "execution_count": 1,
      "metadata": {
        "colab": {
          "base_uri": "https://localhost:8080/"
        },
        "id": "sYZJo8QbdOJW",
        "outputId": "1c585f23-293e-43cf-c9a8-b5c6d6d1cc1c"
      },
      "outputs": [
        {
          "output_type": "stream",
          "name": "stderr",
          "text": [
            "[nltk_data] Downloading collection 'popular'\n",
            "[nltk_data]    | \n",
            "[nltk_data]    | Downloading package cmudict to /root/nltk_data...\n",
            "[nltk_data]    |   Unzipping corpora/cmudict.zip.\n",
            "[nltk_data]    | Downloading package gazetteers to /root/nltk_data...\n",
            "[nltk_data]    |   Unzipping corpora/gazetteers.zip.\n",
            "[nltk_data]    | Downloading package genesis to /root/nltk_data...\n",
            "[nltk_data]    |   Unzipping corpora/genesis.zip.\n",
            "[nltk_data]    | Downloading package gutenberg to /root/nltk_data...\n",
            "[nltk_data]    |   Unzipping corpora/gutenberg.zip.\n",
            "[nltk_data]    | Downloading package inaugural to /root/nltk_data...\n",
            "[nltk_data]    |   Unzipping corpora/inaugural.zip.\n",
            "[nltk_data]    | Downloading package movie_reviews to\n",
            "[nltk_data]    |     /root/nltk_data...\n",
            "[nltk_data]    |   Unzipping corpora/movie_reviews.zip.\n",
            "[nltk_data]    | Downloading package names to /root/nltk_data...\n",
            "[nltk_data]    |   Unzipping corpora/names.zip.\n",
            "[nltk_data]    | Downloading package shakespeare to /root/nltk_data...\n",
            "[nltk_data]    |   Unzipping corpora/shakespeare.zip.\n",
            "[nltk_data]    | Downloading package stopwords to /root/nltk_data...\n",
            "[nltk_data]    |   Unzipping corpora/stopwords.zip.\n",
            "[nltk_data]    | Downloading package treebank to /root/nltk_data...\n",
            "[nltk_data]    |   Unzipping corpora/treebank.zip.\n",
            "[nltk_data]    | Downloading package twitter_samples to\n",
            "[nltk_data]    |     /root/nltk_data...\n",
            "[nltk_data]    |   Unzipping corpora/twitter_samples.zip.\n",
            "[nltk_data]    | Downloading package omw to /root/nltk_data...\n",
            "[nltk_data]    | Downloading package omw-1.4 to /root/nltk_data...\n",
            "[nltk_data]    | Downloading package wordnet to /root/nltk_data...\n",
            "[nltk_data]    | Downloading package wordnet2021 to /root/nltk_data...\n",
            "[nltk_data]    | Downloading package wordnet31 to /root/nltk_data...\n",
            "[nltk_data]    | Downloading package wordnet_ic to /root/nltk_data...\n",
            "[nltk_data]    |   Unzipping corpora/wordnet_ic.zip.\n",
            "[nltk_data]    | Downloading package words to /root/nltk_data...\n",
            "[nltk_data]    |   Unzipping corpora/words.zip.\n",
            "[nltk_data]    | Downloading package maxent_ne_chunker to\n",
            "[nltk_data]    |     /root/nltk_data...\n",
            "[nltk_data]    |   Unzipping chunkers/maxent_ne_chunker.zip.\n",
            "[nltk_data]    | Downloading package punkt to /root/nltk_data...\n",
            "[nltk_data]    |   Unzipping tokenizers/punkt.zip.\n",
            "[nltk_data]    | Downloading package snowball_data to\n",
            "[nltk_data]    |     /root/nltk_data...\n",
            "[nltk_data]    | Downloading package averaged_perceptron_tagger to\n",
            "[nltk_data]    |     /root/nltk_data...\n",
            "[nltk_data]    |   Unzipping taggers/averaged_perceptron_tagger.zip.\n",
            "[nltk_data]    | \n",
            "[nltk_data]  Done downloading collection popular\n",
            "[nltk_data] Downloading package stopwords to /root/nltk_data...\n",
            "[nltk_data]   Package stopwords is already up-to-date!\n"
          ]
        }
      ],
      "source": [
        "import numpy as np\n",
        "import pandas as pd\n",
        "\n",
        "from sklearn.model_selection import train_test_split\n",
        "\n",
        "import nltk\n",
        "nltk.download('popular')\n",
        "from nltk.tokenize import TweetTokenizer\n",
        "from nltk.corpus import stopwords\n",
        "nltk.download('stopwords')\n",
        "from string import punctuation\n",
        "\n",
        "import tensorflow as tf\n",
        "from tensorflow.python.keras.models import Sequential\n",
        "from tensorflow.python.keras.layers import Embedding, Dropout, Activation, Dense, GRU\n",
        "from tensorflow.keras import layers\n",
        "from tensorflow.keras.models import Model\n",
        "\n",
        "from tensorflow.keras.preprocessing.text import Tokenizer\n",
        "from tensorflow.keras.preprocessing.sequence import pad_sequences\n",
        "np.random.seed(1)\n",
        "\n",
        "import matplotlib.pyplot as plt\n",
        "\n",
        "from sklearn.metrics import classification_report"
      ]
    },
    {
      "cell_type": "code",
      "execution_count": 2,
      "metadata": {
        "id": "BHnDhmCCdi7J"
      },
      "outputs": [],
      "source": [
        "dataset = pd.read_csv('/content/drive/MyDrive/Blue Edtech 1semestre/Módulo 7/IMDB Dataset SPANISH.csv')"
      ]
    },
    {
      "cell_type": "markdown",
      "metadata": {
        "id": "2MywjhI1IA7y"
      },
      "source": [
        "### Entendendo os dados"
      ]
    },
    {
      "cell_type": "code",
      "execution_count": null,
      "metadata": {
        "colab": {
          "base_uri": "https://localhost:8080/",
          "height": 424
        },
        "id": "IlslvR4t3-fn",
        "outputId": "dee83fe0-0ab7-4691-e544-4ce4872eb38d"
      },
      "outputs": [
        {
          "data": {
            "text/html": [
              "\n",
              "  <div id=\"df-be9cddcc-f306-45f2-8f4e-1bc771ec3bb4\">\n",
              "    <div class=\"colab-df-container\">\n",
              "      <div>\n",
              "<style scoped>\n",
              "    .dataframe tbody tr th:only-of-type {\n",
              "        vertical-align: middle;\n",
              "    }\n",
              "\n",
              "    .dataframe tbody tr th {\n",
              "        vertical-align: top;\n",
              "    }\n",
              "\n",
              "    .dataframe thead th {\n",
              "        text-align: right;\n",
              "    }\n",
              "</style>\n",
              "<table border=\"1\" class=\"dataframe\">\n",
              "  <thead>\n",
              "    <tr style=\"text-align: right;\">\n",
              "      <th></th>\n",
              "      <th>Unnamed: 0</th>\n",
              "      <th>review_en</th>\n",
              "      <th>review_es</th>\n",
              "      <th>sentiment</th>\n",
              "      <th>sentimiento</th>\n",
              "    </tr>\n",
              "  </thead>\n",
              "  <tbody>\n",
              "    <tr>\n",
              "      <th>0</th>\n",
              "      <td>0</td>\n",
              "      <td>One of the other reviewers has mentioned that ...</td>\n",
              "      <td>Uno de los otros críticos ha mencionado que de...</td>\n",
              "      <td>positive</td>\n",
              "      <td>positivo</td>\n",
              "    </tr>\n",
              "    <tr>\n",
              "      <th>1</th>\n",
              "      <td>1</td>\n",
              "      <td>A wonderful little production. The filming tec...</td>\n",
              "      <td>Una pequeña pequeña producción.La técnica de f...</td>\n",
              "      <td>positive</td>\n",
              "      <td>positivo</td>\n",
              "    </tr>\n",
              "    <tr>\n",
              "      <th>2</th>\n",
              "      <td>2</td>\n",
              "      <td>I thought this was a wonderful way to spend ti...</td>\n",
              "      <td>Pensé que esta era una manera maravillosa de p...</td>\n",
              "      <td>positive</td>\n",
              "      <td>positivo</td>\n",
              "    </tr>\n",
              "    <tr>\n",
              "      <th>3</th>\n",
              "      <td>3</td>\n",
              "      <td>Basically there's a family where a little boy ...</td>\n",
              "      <td>Básicamente, hay una familia donde un niño peq...</td>\n",
              "      <td>negative</td>\n",
              "      <td>negativo</td>\n",
              "    </tr>\n",
              "    <tr>\n",
              "      <th>4</th>\n",
              "      <td>4</td>\n",
              "      <td>Petter Mattei's \"Love in the Time of Money\" is...</td>\n",
              "      <td>El \"amor en el tiempo\" de Petter Mattei es una...</td>\n",
              "      <td>positive</td>\n",
              "      <td>positivo</td>\n",
              "    </tr>\n",
              "    <tr>\n",
              "      <th>...</th>\n",
              "      <td>...</td>\n",
              "      <td>...</td>\n",
              "      <td>...</td>\n",
              "      <td>...</td>\n",
              "      <td>...</td>\n",
              "    </tr>\n",
              "    <tr>\n",
              "      <th>49995</th>\n",
              "      <td>49995</td>\n",
              "      <td>I thought this movie did a down right good job...</td>\n",
              "      <td>Pensé que esta película hizo un buen trabajo a...</td>\n",
              "      <td>positive</td>\n",
              "      <td>positivo</td>\n",
              "    </tr>\n",
              "    <tr>\n",
              "      <th>49996</th>\n",
              "      <td>49996</td>\n",
              "      <td>Bad plot, bad dialogue, bad acting, idiotic di...</td>\n",
              "      <td>Mala parcela, mal diálogo, mala actuación, dir...</td>\n",
              "      <td>negative</td>\n",
              "      <td>negativo</td>\n",
              "    </tr>\n",
              "    <tr>\n",
              "      <th>49997</th>\n",
              "      <td>49997</td>\n",
              "      <td>I am a Catholic taught in parochial elementary...</td>\n",
              "      <td>Soy católica enseñada en escuelas primarias pa...</td>\n",
              "      <td>negative</td>\n",
              "      <td>negativo</td>\n",
              "    </tr>\n",
              "    <tr>\n",
              "      <th>49998</th>\n",
              "      <td>49998</td>\n",
              "      <td>I'm going to have to disagree with the previou...</td>\n",
              "      <td>Voy a tener que estar en desacuerdo con el com...</td>\n",
              "      <td>negative</td>\n",
              "      <td>negativo</td>\n",
              "    </tr>\n",
              "    <tr>\n",
              "      <th>49999</th>\n",
              "      <td>49999</td>\n",
              "      <td>No one expects the Star Trek movies to be high...</td>\n",
              "      <td>Nadie espera que las películas de Star Trek se...</td>\n",
              "      <td>negative</td>\n",
              "      <td>negativo</td>\n",
              "    </tr>\n",
              "  </tbody>\n",
              "</table>\n",
              "<p>50000 rows × 5 columns</p>\n",
              "</div>\n",
              "      <button class=\"colab-df-convert\" onclick=\"convertToInteractive('df-be9cddcc-f306-45f2-8f4e-1bc771ec3bb4')\"\n",
              "              title=\"Convert this dataframe to an interactive table.\"\n",
              "              style=\"display:none;\">\n",
              "        \n",
              "  <svg xmlns=\"http://www.w3.org/2000/svg\" height=\"24px\"viewBox=\"0 0 24 24\"\n",
              "       width=\"24px\">\n",
              "    <path d=\"M0 0h24v24H0V0z\" fill=\"none\"/>\n",
              "    <path d=\"M18.56 5.44l.94 2.06.94-2.06 2.06-.94-2.06-.94-.94-2.06-.94 2.06-2.06.94zm-11 1L8.5 8.5l.94-2.06 2.06-.94-2.06-.94L8.5 2.5l-.94 2.06-2.06.94zm10 10l.94 2.06.94-2.06 2.06-.94-2.06-.94-.94-2.06-.94 2.06-2.06.94z\"/><path d=\"M17.41 7.96l-1.37-1.37c-.4-.4-.92-.59-1.43-.59-.52 0-1.04.2-1.43.59L10.3 9.45l-7.72 7.72c-.78.78-.78 2.05 0 2.83L4 21.41c.39.39.9.59 1.41.59.51 0 1.02-.2 1.41-.59l7.78-7.78 2.81-2.81c.8-.78.8-2.07 0-2.86zM5.41 20L4 18.59l7.72-7.72 1.47 1.35L5.41 20z\"/>\n",
              "  </svg>\n",
              "      </button>\n",
              "      \n",
              "  <style>\n",
              "    .colab-df-container {\n",
              "      display:flex;\n",
              "      flex-wrap:wrap;\n",
              "      gap: 12px;\n",
              "    }\n",
              "\n",
              "    .colab-df-convert {\n",
              "      background-color: #E8F0FE;\n",
              "      border: none;\n",
              "      border-radius: 50%;\n",
              "      cursor: pointer;\n",
              "      display: none;\n",
              "      fill: #1967D2;\n",
              "      height: 32px;\n",
              "      padding: 0 0 0 0;\n",
              "      width: 32px;\n",
              "    }\n",
              "\n",
              "    .colab-df-convert:hover {\n",
              "      background-color: #E2EBFA;\n",
              "      box-shadow: 0px 1px 2px rgba(60, 64, 67, 0.3), 0px 1px 3px 1px rgba(60, 64, 67, 0.15);\n",
              "      fill: #174EA6;\n",
              "    }\n",
              "\n",
              "    [theme=dark] .colab-df-convert {\n",
              "      background-color: #3B4455;\n",
              "      fill: #D2E3FC;\n",
              "    }\n",
              "\n",
              "    [theme=dark] .colab-df-convert:hover {\n",
              "      background-color: #434B5C;\n",
              "      box-shadow: 0px 1px 3px 1px rgba(0, 0, 0, 0.15);\n",
              "      filter: drop-shadow(0px 1px 2px rgba(0, 0, 0, 0.3));\n",
              "      fill: #FFFFFF;\n",
              "    }\n",
              "  </style>\n",
              "\n",
              "      <script>\n",
              "        const buttonEl =\n",
              "          document.querySelector('#df-be9cddcc-f306-45f2-8f4e-1bc771ec3bb4 button.colab-df-convert');\n",
              "        buttonEl.style.display =\n",
              "          google.colab.kernel.accessAllowed ? 'block' : 'none';\n",
              "\n",
              "        async function convertToInteractive(key) {\n",
              "          const element = document.querySelector('#df-be9cddcc-f306-45f2-8f4e-1bc771ec3bb4');\n",
              "          const dataTable =\n",
              "            await google.colab.kernel.invokeFunction('convertToInteractive',\n",
              "                                                     [key], {});\n",
              "          if (!dataTable) return;\n",
              "\n",
              "          const docLinkHtml = 'Like what you see? Visit the ' +\n",
              "            '<a target=\"_blank\" href=https://colab.research.google.com/notebooks/data_table.ipynb>data table notebook</a>'\n",
              "            + ' to learn more about interactive tables.';\n",
              "          element.innerHTML = '';\n",
              "          dataTable['output_type'] = 'display_data';\n",
              "          await google.colab.output.renderOutput(dataTable, element);\n",
              "          const docLink = document.createElement('div');\n",
              "          docLink.innerHTML = docLinkHtml;\n",
              "          element.appendChild(docLink);\n",
              "        }\n",
              "      </script>\n",
              "    </div>\n",
              "  </div>\n",
              "  "
            ],
            "text/plain": [
              "       Unnamed: 0                                          review_en  \\\n",
              "0               0  One of the other reviewers has mentioned that ...   \n",
              "1               1  A wonderful little production. The filming tec...   \n",
              "2               2  I thought this was a wonderful way to spend ti...   \n",
              "3               3  Basically there's a family where a little boy ...   \n",
              "4               4  Petter Mattei's \"Love in the Time of Money\" is...   \n",
              "...           ...                                                ...   \n",
              "49995       49995  I thought this movie did a down right good job...   \n",
              "49996       49996  Bad plot, bad dialogue, bad acting, idiotic di...   \n",
              "49997       49997  I am a Catholic taught in parochial elementary...   \n",
              "49998       49998  I'm going to have to disagree with the previou...   \n",
              "49999       49999  No one expects the Star Trek movies to be high...   \n",
              "\n",
              "                                               review_es sentiment sentimiento  \n",
              "0      Uno de los otros críticos ha mencionado que de...  positive    positivo  \n",
              "1      Una pequeña pequeña producción.La técnica de f...  positive    positivo  \n",
              "2      Pensé que esta era una manera maravillosa de p...  positive    positivo  \n",
              "3      Básicamente, hay una familia donde un niño peq...  negative    negativo  \n",
              "4      El \"amor en el tiempo\" de Petter Mattei es una...  positive    positivo  \n",
              "...                                                  ...       ...         ...  \n",
              "49995  Pensé que esta película hizo un buen trabajo a...  positive    positivo  \n",
              "49996  Mala parcela, mal diálogo, mala actuación, dir...  negative    negativo  \n",
              "49997  Soy católica enseñada en escuelas primarias pa...  negative    negativo  \n",
              "49998  Voy a tener que estar en desacuerdo con el com...  negative    negativo  \n",
              "49999  Nadie espera que las películas de Star Trek se...  negative    negativo  \n",
              "\n",
              "[50000 rows x 5 columns]"
            ]
          },
          "execution_count": 141,
          "metadata": {},
          "output_type": "execute_result"
        }
      ],
      "source": [
        "dataset"
      ]
    },
    {
      "cell_type": "code",
      "execution_count": null,
      "metadata": {
        "colab": {
          "base_uri": "https://localhost:8080/"
        },
        "id": "Hd-uVCzLIqa7",
        "outputId": "37a29356-c0b1-4d2c-86c9-03e30034ec47"
      },
      "outputs": [
        {
          "name": "stdout",
          "output_type": "stream",
          "text": [
            "<class 'pandas.core.frame.DataFrame'>\n",
            "RangeIndex: 50000 entries, 0 to 49999\n",
            "Data columns (total 5 columns):\n",
            " #   Column       Non-Null Count  Dtype \n",
            "---  ------       --------------  ----- \n",
            " 0   Unnamed: 0   50000 non-null  int64 \n",
            " 1   review_en    50000 non-null  object\n",
            " 2   review_es    50000 non-null  object\n",
            " 3   sentiment    50000 non-null  object\n",
            " 4   sentimiento  50000 non-null  object\n",
            "dtypes: int64(1), object(4)\n",
            "memory usage: 1.9+ MB\n"
          ]
        }
      ],
      "source": [
        "dataset.info()"
      ]
    },
    {
      "cell_type": "markdown",
      "metadata": {
        "id": "nmOAtovELmO5"
      },
      "source": [
        "### Preparando os dados"
      ]
    },
    {
      "cell_type": "code",
      "execution_count": 3,
      "metadata": {
        "colab": {
          "base_uri": "https://localhost:8080/"
        },
        "id": "2swRdFuqqc3G",
        "outputId": "622d0a06-9a7f-40b8-b326-d531e2c8e08a"
      },
      "outputs": [
        {
          "output_type": "stream",
          "name": "stderr",
          "text": [
            "<ipython-input-3-6bf6403b493d>:5: SettingWithCopyWarning: \n",
            "A value is trying to be set on a copy of a slice from a DataFrame\n",
            "\n",
            "See the caveats in the documentation: https://pandas.pydata.org/pandas-docs/stable/user_guide/indexing.html#returning-a-view-versus-a-copy\n",
            "  dataset['sentimiento'][i] = 1\n",
            "<ipython-input-3-6bf6403b493d>:3: SettingWithCopyWarning: \n",
            "A value is trying to be set on a copy of a slice from a DataFrame\n",
            "\n",
            "See the caveats in the documentation: https://pandas.pydata.org/pandas-docs/stable/user_guide/indexing.html#returning-a-view-versus-a-copy\n",
            "  dataset['sentimiento'][i] = 0\n"
          ]
        }
      ],
      "source": [
        "# for i in range(0,50000):\n",
        "#   if dataset['sentimiento'][i] == 'negativo':\n",
        "#     dataset['sentimiento'][i] = 0\n",
        "#   else:\n",
        "#     dataset['sentimiento'][i] = 1"
      ]
    },
    {
      "cell_type": "code",
      "execution_count": 4,
      "metadata": {
        "colab": {
          "base_uri": "https://localhost:8080/"
        },
        "id": "PZRg7-hMRNN6",
        "outputId": "ed346323-78f5-4ec2-f049-dba20ebb2d35"
      },
      "outputs": [
        {
          "output_type": "stream",
          "name": "stdout",
          "text": [
            "Looking in indexes: https://pypi.org/simple, https://us-python.pkg.dev/colab-wheels/public/simple/\n",
            "Collecting clean-text\n",
            "  Downloading clean_text-0.6.0-py3-none-any.whl (11 kB)\n",
            "Collecting ftfy<7.0,>=6.0\n",
            "  Downloading ftfy-6.1.1-py3-none-any.whl (53 kB)\n",
            "\u001b[K     |████████████████████████████████| 53 kB 2.1 MB/s \n",
            "\u001b[?25hCollecting emoji<2.0.0,>=1.0.0\n",
            "  Downloading emoji-1.7.0.tar.gz (175 kB)\n",
            "\u001b[K     |████████████████████████████████| 175 kB 75.3 MB/s \n",
            "\u001b[?25hRequirement already satisfied: wcwidth>=0.2.5 in /usr/local/lib/python3.8/dist-packages (from ftfy<7.0,>=6.0->clean-text) (0.2.5)\n",
            "Building wheels for collected packages: emoji\n",
            "  Building wheel for emoji (setup.py) ... \u001b[?25l\u001b[?25hdone\n",
            "  Created wheel for emoji: filename=emoji-1.7.0-py3-none-any.whl size=171046 sha256=68a0c0e000853e031ba6fd417737e547ad3cd700962677784689ed0a2a99f1d2\n",
            "  Stored in directory: /root/.cache/pip/wheels/5e/8c/80/c3646df8201ba6f5070297fe3779a4b70265d0bfd961c15302\n",
            "Successfully built emoji\n",
            "Installing collected packages: ftfy, emoji, clean-text\n",
            "Successfully installed clean-text-0.6.0 emoji-1.7.0 ftfy-6.1.1\n"
          ]
        },
        {
          "output_type": "stream",
          "name": "stderr",
          "text": [
            "WARNING:root:Since the GPL-licensed package `unidecode` is not installed, using Python's `unicodedata` package which yields worse results.\n"
          ]
        }
      ],
      "source": [
        "# !pip install clean-text\n",
        "# from cleantext import clean"
      ]
    },
    {
      "cell_type": "code",
      "execution_count": 5,
      "metadata": {
        "id": "4Ekq-hQx2NdG"
      },
      "outputs": [],
      "source": [
        "# removendo\n",
        "\n",
        "# dataset['review_es'] = dataset['review_es'].apply(lambda x: clean(x, no_emoji=True))"
      ]
    },
    {
      "cell_type": "code",
      "execution_count": 6,
      "metadata": {
        "id": "06z9XmNkuGdf"
      },
      "outputs": [],
      "source": [
        "# tokenizando\n",
        "\n",
        "# tt = TweetTokenizer()\n",
        "# dataset['review_es'] = dataset['review_es'].apply(tt.tokenize)"
      ]
    },
    {
      "cell_type": "code",
      "execution_count": 7,
      "metadata": {
        "id": "HQ9SCbJUo9xs"
      },
      "outputs": [],
      "source": [
        "# removendo stopwords e pontuações\n",
        "\n",
        "# stopwords = set(stopwords.words('spanish') + list(punctuation))\n",
        "# dataset['review_es'] = dataset['review_es'].apply(lambda x: ' '.join([word for word in x if word not in (stopwords)]))"
      ]
    },
    {
      "cell_type": "code",
      "execution_count": 8,
      "metadata": {
        "id": "IgvZjT_sD7dA"
      },
      "outputs": [],
      "source": [
        "# dataset.to_csv('dataset_limpo', index = False)"
      ]
    },
    {
      "cell_type": "code",
      "execution_count": null,
      "metadata": {
        "id": "M04IjWMrh7cx"
      },
      "outputs": [],
      "source": [
        "# df, val = train_test_split(dataset, test_size= 0.1, random_state=101, stratify=dataset['sentimiento'])\n",
        "# train, test = train_test_split(df, test_size= 0.3, random_state=101, stratify=df['sentimiento'])"
      ]
    },
    {
      "cell_type": "code",
      "execution_count": null,
      "metadata": {
        "id": "8mN9mAW-jJRE"
      },
      "outputs": [],
      "source": [
        "# val.to_csv('validacao', index = False)\n",
        "# train.to_csv('treino', index = False)\n",
        "# test.to_csv('teste', index = False)"
      ]
    },
    {
      "cell_type": "markdown",
      "source": [
        "### Entendendo os dados após pré processamento inicial"
      ],
      "metadata": {
        "id": "MJaW63utBKVH"
      }
    },
    {
      "cell_type": "code",
      "source": [
        "contagem = []\n",
        "for i in range(0,50000):\n",
        "  contagem.append(len(dataset['review_es'][i]))\n",
        "dataset['contagem palavras'] = contagem"
      ],
      "metadata": {
        "id": "mYcNuVvkBS5R"
      },
      "execution_count": 21,
      "outputs": []
    },
    {
      "cell_type": "code",
      "source": [
        "dataset['contagem palavras'].mean()"
      ],
      "metadata": {
        "colab": {
          "base_uri": "https://localhost:8080/"
        },
        "id": "67xLTrV3Dr02",
        "outputId": "bc038eee-05fb-4038-a48d-bc0ac8cddeed"
      },
      "execution_count": 24,
      "outputs": [
        {
          "output_type": "execute_result",
          "data": {
            "text/plain": [
              "984.03426"
            ]
          },
          "metadata": {},
          "execution_count": 24
        }
      ]
    },
    {
      "cell_type": "code",
      "source": [
        "dataset['contagem palavras'].max()"
      ],
      "metadata": {
        "colab": {
          "base_uri": "https://localhost:8080/"
        },
        "id": "6IcHeShNFe91",
        "outputId": "4ea79c93-7bf4-4436-edb5-56ab29be76f9"
      },
      "execution_count": 28,
      "outputs": [
        {
          "output_type": "execute_result",
          "data": {
            "text/plain": [
              "13113"
            ]
          },
          "metadata": {},
          "execution_count": 28
        }
      ]
    },
    {
      "cell_type": "code",
      "source": [
        "dataset['contagem palavras'].min()"
      ],
      "metadata": {
        "colab": {
          "base_uri": "https://localhost:8080/"
        },
        "id": "1808N5gaFiWr",
        "outputId": "8588b59c-4869-43f7-c20b-6e6c76b6c862"
      },
      "execution_count": 29,
      "outputs": [
        {
          "output_type": "execute_result",
          "data": {
            "text/plain": [
              "23"
            ]
          },
          "metadata": {},
          "execution_count": 29
        }
      ]
    },
    {
      "cell_type": "code",
      "source": [
        "dataset['contagem palavras'].quantile(0.75)"
      ],
      "metadata": {
        "colab": {
          "base_uri": "https://localhost:8080/"
        },
        "id": "5Zju_s2vHScm",
        "outputId": "ab8fce2e-6f03-4299-f807-bebd139aef98"
      },
      "execution_count": 31,
      "outputs": [
        {
          "output_type": "execute_result",
          "data": {
            "text/plain": [
              "1175.0"
            ]
          },
          "metadata": {},
          "execution_count": 31
        }
      ]
    },
    {
      "cell_type": "code",
      "source": [
        "dataset['contagem palavras'].quantile(0.5)"
      ],
      "metadata": {
        "colab": {
          "base_uri": "https://localhost:8080/"
        },
        "id": "S5n6Yxioknnv",
        "outputId": "b0cc10c3-2f96-4e84-920f-27a5fcc60e92"
      },
      "execution_count": 77,
      "outputs": [
        {
          "output_type": "execute_result",
          "data": {
            "text/plain": [
              "725.0"
            ]
          },
          "metadata": {},
          "execution_count": 77
        }
      ]
    },
    {
      "cell_type": "code",
      "source": [
        "# Tamanho do gráfico em polegadas\n",
        "plt.figure(figsize =(11, 6))\n",
        "\n",
        "#Plotando o boxplot das espécies em relação ao tamanho das sépalas\n",
        "bplots = plt.boxplot(dataset['contagem palavras'],  vert = 1, patch_artist = False)"
      ],
      "metadata": {
        "colab": {
          "base_uri": "https://localhost:8080/",
          "height": 374
        },
        "id": "2fvdO2JlEk75",
        "outputId": "23f9d7ff-8c11-4400-b315-b2b0d9104e50"
      },
      "execution_count": 27,
      "outputs": [
        {
          "output_type": "display_data",
          "data": {
            "text/plain": [
              "<Figure size 792x432 with 1 Axes>"
            ],
            "image/png": "[encoded data removed]"
          },
          "metadata": {
            "needs_background": "light"
          }
        }
      ]
    },
    {
      "cell_type": "markdown",
      "source": [
        "### Preparando os dados finais"
      ],
      "metadata": {
        "id": "Zm-i8JPpH2Iv"
      }
    },
    {
      "cell_type": "code",
      "execution_count": 2,
      "metadata": {
        "id": "kU4DWTliIAiM"
      },
      "outputs": [],
      "source": [
        "train = pd.read_csv('/content/drive/MyDrive/Blue Edtech 1semestre/Módulo 7/data/treino')\n",
        "test = pd.read_csv('/content/drive/MyDrive/Blue Edtech 1semestre/Módulo 7/data/teste')\n",
        "val = pd.read_csv('/content/drive/MyDrive/Blue Edtech 1semestre/Módulo 7/data/validacao')"
      ]
    },
    {
      "cell_type": "code",
      "execution_count": 3,
      "metadata": {
        "id": "azLEbplZIAiN"
      },
      "outputs": [],
      "source": [
        "train1 = train.head(13000)"
      ]
    },
    {
      "cell_type": "code",
      "execution_count": 4,
      "metadata": {
        "colab": {
          "base_uri": "https://localhost:8080/"
        },
        "outputId": "ce50d938-b75d-4cb7-97cf-99f965dc943e",
        "id": "nMwQJkuaIAiO"
      },
      "outputs": [
        {
          "output_type": "stream",
          "name": "stdout",
          "text": [
            "(5000, 5)\n",
            "(31500, 5)\n",
            "(13500, 5)\n"
          ]
        }
      ],
      "source": [
        "print(val.shape)\n",
        "print(train.shape)\n",
        "print(test.shape)"
      ]
    },
    {
      "cell_type": "code",
      "execution_count": 5,
      "metadata": {
        "id": "7nmTRb_YIAiO"
      },
      "outputs": [],
      "source": [
        "  # TOKENIZAÇÃO\n",
        "  tk = Tokenizer()\n",
        "\n",
        "  # FIT ON TRAIN \n",
        "  tk.fit_on_texts(train1['review_es'].apply(str))\n",
        "\n",
        "  # TOKENIZANDO O DATASET DE TREINO\n",
        "  tk_train = tk.texts_to_sequences(train1['review_es'].apply(str))\n",
        "\n",
        "  # TOKENIZANDO O DATASET DE TESTE\n",
        "  tk_test = tk.texts_to_sequences(test['review_es'].apply(str))\n",
        "\n",
        "  # TOKENIZANDO O DATASET DE VALIDAÇÃO\n",
        "  tk_val = tk.texts_to_sequences(val['review_es'].apply(str))\n",
        "\n",
        "  # COMPUTANDO O COMPRIMENTO MÁXIMO\n",
        "  max_length = train['review_es'].apply(lambda x :len(str(x).split())).max()\n",
        "\n",
        "  # COMPUTANDO O TAMANHO DO VOCABULÁRIO\n",
        "  vocab_size = len(tk.word_index) + 1\n",
        "\n",
        "  # PADDING A SEQUENCIA DE TREINO\n",
        "  train_pad= pad_sequences(tk_train,padding=\"post\",maxlen = 725)\n",
        "\n",
        "  # PADDING A SEQUENCIA DE TESTE\n",
        "  test_pad = pad_sequences(tk_test,padding = \"post\", maxlen = 725)\n",
        "\n",
        "  # PADDING A SEQUENCIA DE TESTE\n",
        "  val_pad = pad_sequences(tk_val,padding = \"post\", maxlen = 725)"
      ]
    },
    {
      "cell_type": "code",
      "execution_count": 6,
      "metadata": {
        "colab": {
          "base_uri": "https://localhost:8080/"
        },
        "outputId": "55f02d10-d50a-4fe8-d080-c024edfc8d3a",
        "id": "69VAD2DZIAiP"
      },
      "outputs": [
        {
          "output_type": "stream",
          "name": "stdout",
          "text": [
            "vocab_size 90972\n",
            "max_length 2357\n"
          ]
        }
      ],
      "source": [
        "print('vocab_size', vocab_size)\n",
        "print('max_length', max_length)"
      ]
    },
    {
      "cell_type": "code",
      "execution_count": null,
      "metadata": {
        "id": "rsbiMEAWK2cl"
      },
      "outputs": [],
      "source": [
        "# # transformando array treino em dataframe\n",
        "\n",
        "# df = pd.DataFrame({'vetores': [index for index in range(len(train_pad))]})\n",
        "# df['vetores'] = df['vetores'].astype('object')\n",
        "# for i in range(len(df)):\n",
        "#     df.at[i,'vetores'] = train_pad[i].tolist()\n",
        "\n",
        "# # transformando array val em dataframe\n",
        "\n",
        "# df2 = pd.DataFrame({'vetores': [index for index in range(len(val_pad))]})\n",
        "# df2['vetores'] = df2['vetores'].astype('object')\n",
        "# for i in range(len(df2)):\n",
        "#     df2.at[i,'vetores'] = val_pad[i].tolist()\n",
        "\n",
        "# # transformando array teste em dataframe\n",
        "\n",
        "# df3 = pd.DataFrame({'vetores': [index for index in range(len(test_pad))]})\n",
        "# df3['vetores'] = df3['vetores'].astype('object')\n",
        "# for i in range(len(df3)):\n",
        "#     df3.at[i,'vetores'] = test_pad[i].tolist()"
      ]
    },
    {
      "cell_type": "code",
      "execution_count": null,
      "metadata": {
        "id": "Hq89aAOynf6z"
      },
      "outputs": [],
      "source": [
        "# def __convert_strig_to_vector(txt):\n",
        "#     txt = str(txt).replace('[', '')\n",
        "#     txt = str(txt).replace(']', '')\n",
        "#     txt = txt.split(',')\n",
        "#     lst = [int(i) for i in txt]\n",
        "#     return lst"
      ]
    },
    {
      "cell_type": "code",
      "execution_count": null,
      "metadata": {
        "colab": {
          "base_uri": "https://localhost:8080/"
        },
        "id": "z6_HOeMgB8_Z",
        "outputId": "ab1877a8-9643-400a-8848-9ea624c67dfe"
      },
      "outputs": [
        {
          "name": "stderr",
          "output_type": "stream",
          "text": [
            "<ipython-input-6-d2204c048312>:3: UserWarning: Pandas doesn't allow columns to be created via a new attribute name - see https://pandas.pydata.org/pandas-docs/stable/indexing.html#attribute-access\n",
            "  df3.Vetores = df3.vetores.apply(lambda x: __convert_strig_to_vector(x))\n"
          ]
        }
      ],
      "source": [
        "# df.vetores = df.vetores.apply(lambda x: __convert_strig_to_vector(x))\n",
        "# df2.vetores = df2.vetores.apply(lambda x: __convert_strig_to_vector(x))\n",
        "# df3.Vetores = df3.vetores.apply(lambda x: __convert_strig_to_vector(x))"
      ]
    },
    {
      "cell_type": "markdown",
      "metadata": {
        "id": "Z3qgyvZgNte7"
      },
      "source": [
        "### Montando a arquitetura da rede\n",
        "\n",
        "\n"
      ]
    },
    {
      "cell_type": "code",
      "execution_count": 7,
      "metadata": {
        "id": "LYVXFAbSFO81"
      },
      "outputs": [],
      "source": [
        "y_train = np.array(train1['sentimiento'])\n",
        "y_val = np.array(val['sentimiento'])\n",
        "y_test = np.array(test['sentimiento'])"
      ]
    },
    {
      "cell_type": "code",
      "execution_count": 10,
      "metadata": {
        "colab": {
          "base_uri": "https://localhost:8080/"
        },
        "id": "XICGPPwsX5W_",
        "outputId": "6d037ac0-a262-4e74-ace8-c62a3aa8effe"
      },
      "outputs": [
        {
          "output_type": "stream",
          "name": "stdout",
          "text": [
            "Model: \"sequential_1\"\n",
            "_________________________________________________________________\n",
            "Layer (type)                 Output Shape              Param #   \n",
            "=================================================================\n",
            "embedding_1 (Embedding)      (None, 725, 40)           3638880   \n",
            "_________________________________________________________________\n",
            "dropout_1 (Dropout)          (None, 725, 40)           0         \n",
            "_________________________________________________________________\n",
            "gru_1 (GRU)                  (None, 725, 100)          42300     \n",
            "_________________________________________________________________\n",
            "activation_1 (Activation)    (None, 725, 100)          0         \n",
            "_________________________________________________________________\n",
            "dense_1 (Dense)              (None, 725, 1)            101       \n",
            "=================================================================\n",
            "Total params: 3,681,281\n",
            "Trainable params: 3,681,281\n",
            "Non-trainable params: 0\n",
            "_________________________________________________________________\n",
            "None\n"
          ]
        }
      ],
      "source": [
        "model = Sequential()\n",
        "model.add(Embedding(vocab_size, 40, input_length= 725))\n",
        "model.add(Dropout(0.3))\n",
        "model.add(GRU(100,return_sequences=True))\n",
        "model.add(Activation('elu'))\n",
        "model.add(Dense(1, activation='sigmoid'))\n",
        "\n",
        "# SCHEDULE\n",
        "def shedule(epoch,lr):\n",
        "    if epoch<=2:\n",
        "        return lr\n",
        "    else:\n",
        "        return lr*0.1\n",
        "\n",
        "# CALLBACKS\n",
        "lr = tf.keras.callbacks.LearningRateScheduler(shedule,verbose=1)\n",
        "save = tf.keras.callbacks.ModelCheckpoint(\"content/drive/MyDrive/Blue Edtech 1semestre/Módulo 7\",monitor=\"accuracy\",mode=\"min\",save_best_only=True, save_weights_only=True,verbose=1)\n",
        "earlystop = tf.keras.callbacks.EarlyStopping(monitor=\"accuracy\",min_delta= 0.01, patience=2,mode=\"min\" )\n",
        "\n",
        "model.compile(loss= 'binary_crossentropy', optimizer= 'adam', metrics=['accuracy'])\n",
        "print(model.summary())"
      ]
    },
    {
      "cell_type": "code",
      "execution_count": 12,
      "metadata": {
        "colab": {
          "base_uri": "https://localhost:8080/"
        },
        "id": "L6arUi9peqi1",
        "outputId": "ffc3f1c1-a902-4c13-b040-e70de8a56fd1"
      },
      "outputs": [
        {
          "output_type": "stream",
          "name": "stdout",
          "text": [
            "Epoch 1/8\n",
            "\n",
            "Epoch 1: LearningRateScheduler setting learning rate to 0.0010000000474974513.\n",
            "407/407 [==============================] - 572s 1s/step - loss: 0.6557 - accuracy: 0.6010 - val_loss: 0.6126 - val_accuracy: 0.6772\n",
            "\n",
            "Epoch 1: accuracy improved from inf to 0.60098, saving model to content/drive/MyDrive/Blue Edtech 1semestre/Módulo 7\n",
            "Epoch 2/8\n",
            "\n",
            "Epoch 2: LearningRateScheduler setting learning rate to 0.0010000000474974513.\n",
            "407/407 [==============================] - 574s 1s/step - loss: 0.4847 - accuracy: 0.7682 - val_loss: 0.4078 - val_accuracy: 0.8242\n",
            "\n",
            "Epoch 2: accuracy did not improve from 0.60098\n",
            "Epoch 3/8\n",
            "\n",
            "Epoch 3: LearningRateScheduler setting learning rate to 0.0010000000474974513.\n",
            "407/407 [==============================] - 568s 1s/step - loss: 0.2109 - accuracy: 0.9210 - val_loss: 0.3858 - val_accuracy: 0.8363\n",
            "\n",
            "Epoch 3: accuracy did not improve from 0.60098\n"
          ]
        }
      ],
      "source": [
        "net = model.fit(train_pad, y_train, batch_size = 32, epochs= 8, validation_data = (val_pad, y_val), callbacks=[save,lr,earlystop])"
      ]
    },
    {
      "cell_type": "code",
      "execution_count": 13,
      "metadata": {
        "colab": {
          "base_uri": "https://localhost:8080/",
          "height": 460
        },
        "id": "c5tp3N8tIdO4",
        "outputId": "3ff57a1e-1639-43d4-93ae-f977ffced696"
      },
      "outputs": [
        {
          "output_type": "display_data",
          "data": {
            "text/plain": [
              "<Figure size 720x504 with 1 Axes>"
            ],
            "image/png": "[encoded data removed]"
          },
          "metadata": {
            "needs_background": "light"
          }
        }
      ],
      "source": [
        "plt.figure(figsize = (10,7))\n",
        "plt.plot(net.history['accuracy'])\n",
        "plt.plot(net.history['val_accuracy'])\n",
        "plt.title('Curva de Acurácia', fontsize = 16)\n",
        "plt.ylabel('Acurácia')\n",
        "plt.xlabel('Epoca')\n",
        "plt.legend(['treino', 'validação'], loc='upper left')\n",
        "plt.show()"
      ]
    },
    {
      "cell_type": "markdown",
      "metadata": {
        "id": "W2DdSsZjN66f"
      },
      "source": [
        "### Avaliando o modelo"
      ]
    },
    {
      "cell_type": "code",
      "source": [
        "y_pred = model.predict(test_pad)"
      ],
      "metadata": {
        "id": "ayyfH03vkwSJ"
      },
      "execution_count": 14,
      "outputs": []
    },
    {
      "cell_type": "code",
      "execution_count": 18,
      "metadata": {
        "id": "68s8-aBoPrVH"
      },
      "outputs": [],
      "source": [
        "lista = []\n",
        "result = pd.DataFrame()\n",
        "for i in range(0,13500):\n",
        "  soma = 0\n",
        "  for j in range(0,725):\n",
        "    soma = y_pred[i][j] + soma\n",
        "  pontuacao = soma/725\n",
        "  if pontuacao < 0.5:\n",
        "    lista.append(0)\n",
        "  else:\n",
        "    lista.append(1)\n",
        "result['prediction'] = lista"
      ]
    },
    {
      "cell_type": "code",
      "execution_count": 20,
      "metadata": {
        "colab": {
          "base_uri": "https://localhost:8080/"
        },
        "id": "hfj5ztQb7E0R",
        "outputId": "698648f9-0648-4d1c-8fe3-2570f14efebd"
      },
      "outputs": [
        {
          "output_type": "stream",
          "name": "stdout",
          "text": [
            "              precision    recall  f1-score   support\n",
            "\n",
            "           0       0.92      0.79      0.85      6750\n",
            "           1       0.81      0.93      0.87      6750\n",
            "\n",
            "    accuracy                           0.86     13500\n",
            "   macro avg       0.86      0.86      0.86     13500\n",
            "weighted avg       0.86      0.86      0.86     13500\n",
            "\n"
          ]
        }
      ],
      "source": [
        "print(classification_report(test['sentimiento'], result['prediction']))"
      ]
    }
  ],
  "metadata": {
    "accelerator": "TPU",
    "colab": {
      "collapsed_sections": [
        "MIFx93y8Ginl"
      ],
      "provenance": [],
      "mount_file_id": "12wg_AOQJQqo4hUToDlCzxCsmXlUHW2Xq",
      "authorship_tag": "ABX9TyPGzNc6R/669Gvm1Fr+ZxYH",
      "include_colab_link": true
    },
    "gpuClass": "standard",
    "kernelspec": {
      "display_name": "Python 3",
      "name": "python3"
    },
    "language_info": {
      "name": "python"
    }
  },
  "nbformat": 4,
  "nbformat_minor": 0
}