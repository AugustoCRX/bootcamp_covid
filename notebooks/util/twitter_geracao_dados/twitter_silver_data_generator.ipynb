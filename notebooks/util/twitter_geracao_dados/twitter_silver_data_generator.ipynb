{
 "cells": [
  {
   "cell_type": "code",
   "execution_count": 139,
   "metadata": {},
   "outputs": [],
   "source": [
    "import pandas as pd\n",
    "import numpy as np\n",
    "import os\n",
    "import time\n",
    "start_time = time.time()"
   ]
  },
  {
   "cell_type": "code",
   "execution_count": 140,
   "metadata": {},
   "outputs": [],
   "source": [
    "#função de diminuição de dimensionalidade de listas\n",
    "def flatten_list(_2d_list):\n",
    "    flat_list = []\n",
    "    for element in _2d_list:\n",
    "        if type(element) is list:\n",
    "            for item in element:\n",
    "                flat_list.append(item)\n",
    "        else:\n",
    "            flat_list.append(element)\n",
    "    return flat_list"
   ]
  },
  {
   "cell_type": "code",
   "execution_count": 141,
   "metadata": {},
   "outputs": [],
   "source": [
    "dir_path = os.listdir(r'dados_covid')\n",
    "names_f = [name.split('.')[0] for name  in dir_path] "
   ]
  },
  {
   "cell_type": "code",
   "execution_count": 142,
   "metadata": {},
   "outputs": [],
   "source": [
    "# carrega os dados em um dicionário\n",
    "paises = ['Mexico', 'Argentina', 'Ecuador', 'Chile', 'Spain']\n",
    "categories = {}\n",
    "for path,names in zip(dir_path,names_f):\n",
    "    if path == 'full_grouped.csv':\n",
    "        categories[names] = pd.read_csv(f'dados_covid\\{path}')\n",
    "        categories[names] = categories[names][categories[names]['Country/Region'].isin(paises)]\n",
    "    else:\n",
    "        categories[names] = pd.read_excel(f'dados_covid\\{path}')"
   ]
  },
  {
   "cell_type": "code",
   "execution_count": 143,
   "metadata": {},
   "outputs": [],
   "source": [
    "#Cria as colunas target\n",
    "columns = ['date','population', 'diabetes_prevalence', 'median_age', 'total_vaccinations', 'hosp_patients','people_fully_vaccinated', 'total_vaccinations_per_hundred','people_vaccinated_per_hundred','people_fully_vaccinated_per_hundred','population_density', 'cardiovasc_death_rate','female_smokers', 'male_smokers', 'handwashing_facilities', 'hospital_beds_per_thousand', 'life_expectancy', 'human_development_index']"
   ]
  },
  {
   "cell_type": "code",
   "execution_count": 145,
   "metadata": {},
   "outputs": [],
   "source": [
    "# Criação dos dados adicionais\n",
    "new_data = {}\n",
    "columns = []\n",
    "columns.append('Country Name')\n",
    "columns.append([f'{i}' for i in range(2000, 2021)])\n",
    "columns.append('Type')\n",
    "columns = flatten_list(columns)\n",
    "paises_pib = pd.DataFrame({}, columns = columns)\n",
    "for i in paises:\n",
    "    country_list = []\n",
    "    columns.remove('Type')\n",
    "    for j in categories:\n",
    "        if j != 'full_grouped':\n",
    "            data = categories[j].loc[categories[j]['Country Name'] == f'{i}', columns]\n",
    "            data.insert(0, 'Type', j)\n",
    "            country_list.append(data)\n",
    "        else:\n",
    "            continue\n",
    "    columns.append('Type')\n",
    "    country_list = flatten_list(country_list)\n",
    "    country_temp = pd.DataFrame({}, columns = columns)\n",
    "    for x in range(len(country_list)):\n",
    "        list_data = pd.DataFrame(country_list[x], columns=columns)\n",
    "        country_temp = pd.concat([list_data,country_temp])\n",
    "    paises_pib = pd.concat([paises_pib,country_temp])\n",
    "paises_pib.reset_index(drop=True,inplace=True)\n",
    "for i in paises:\n",
    "    new_data[i] = paises_pib.loc[paises_pib['Country Name'] == i , :].drop('Country Name', axis = 1).T.rename(columns = {i:k for i,k in zip(paises_pib.T.columns,paises_pib['Type'])}).drop('Type')\n",
    "    new_data[i].insert(0, 'country', i)\n",
    "    new_data[i].reset_index().rename(columns={'index': 'years'})\n",
    "add_info_data = pd.concat([new_data[i] for i in new_data.keys()])\n",
    "add_info_data.to_excel('add_info.xlsx')"
   ]
  },
  {
   "cell_type": "code",
   "execution_count": 166,
   "metadata": {},
   "outputs": [],
   "source": [
    "df0 = pd.read_csv(r\"E:\\Blue\\Bootcamp 2\\bootcamp_covid\\data\\raw\\twitter_bronze\\AR_raw_data.csv\")\n",
    "df0['Country'] = 'Argentina'\n",
    "df1 = pd.read_csv(r\"E:\\Blue\\Bootcamp 2\\bootcamp_covid\\data\\raw\\twitter_bronze\\CL_raw_data.csv\")\n",
    "df1['Country'] = 'Chile'\n",
    "df2 = pd.read_csv(r\"E:\\Blue\\Bootcamp 2\\bootcamp_covid\\data\\raw\\twitter_bronze\\MX_raw_data.csv\")\n",
    "df2['Country'] = 'Mexico'\n",
    "df3 = pd.read_csv(r\"E:\\Blue\\Bootcamp 2\\bootcamp_covid\\data\\raw\\twitter_bronze\\EQ_raw_data.csv\")\n",
    "df3['Country'] = 'Ecuador'\n",
    "df4 = pd.read_csv(r\"E:\\Blue\\Bootcamp 2\\bootcamp_covid\\data\\raw\\twitter_bronze\\ES_raw_data.csv\")\n",
    "df4['Country'] = 'Spain'"
   ]
  },
  {
   "cell_type": "code",
   "execution_count": 168,
   "metadata": {},
   "outputs": [],
   "source": [
    "all = pd.concat([df0,df1,df2,df3,df4])"
   ]
  },
  {
   "cell_type": "code",
   "execution_count": 170,
   "metadata": {},
   "outputs": [],
   "source": [
    "all.to_excel('twitter_data.xlsx')"
   ]
  },
  {
   "cell_type": "code",
   "execution_count": null,
   "metadata": {},
   "outputs": [],
   "source": [
    "print(\"--- %s seconds ---\" % (time.time() - start_time))"
   ]
  }
 ],
 "metadata": {
  "kernelspec": {
   "display_name": "Python 3.9.12 ('base')",
   "language": "python",
   "name": "python3"
  },
  "language_info": {
   "codemirror_mode": {
    "name": "ipython",
    "version": 3
   },
   "file_extension": ".py",
   "mimetype": "text/x-python",
   "name": "python",
   "nbconvert_exporter": "python",
   "pygments_lexer": "ipython3",
   "version": "3.9.12"
  },
  "orig_nbformat": 4,
  "vscode": {
   "interpreter": {
    "hash": "7758e92e9a61d7a3490898707f7eeb937c85e9d1e8d4e877cc6c187218f226d5"
   }
  }
 },
 "nbformat": 4,
 "nbformat_minor": 2
}
