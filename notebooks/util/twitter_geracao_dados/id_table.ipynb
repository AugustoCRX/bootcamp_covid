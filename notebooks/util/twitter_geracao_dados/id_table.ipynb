{
 "cells": [
  {
   "cell_type": "code",
   "execution_count": 1,
   "metadata": {},
   "outputs": [],
   "source": [
    "import pandas as pd"
   ]
  },
  {
   "cell_type": "code",
   "execution_count": 6,
   "metadata": {},
   "outputs": [],
   "source": [
    "df_AR = pd.read_csv(r'E:\\Blue\\Bootcamp 2\\github\\bootcamp_covid\\data_extraction\\ARGENTINA\\AR_data.csv') \n",
    "df_CL = pd.read_csv(r'E:\\Blue\\Bootcamp 2\\github\\bootcamp_covid\\data_extraction\\CHILE\\CL_data.csv') \n",
    "df_EC = pd.read_csv(r'E:\\Blue\\Bootcamp 2\\github\\bootcamp_covid\\data_extraction\\EQUADOR\\EQ_data.csv') \n",
    "df_ES = pd.read_csv(r'E:\\Blue\\Bootcamp 2\\github\\bootcamp_covid\\data_extraction\\ESPANHA\\ES_data.csv') \n",
    "df_MX = pd.read_csv(r'E:\\Blue\\Bootcamp 2\\github\\bootcamp_covid\\data_extraction\\MEXICO\\MX_data.csv') "
   ]
  },
  {
   "cell_type": "code",
   "execution_count": 18,
   "metadata": {},
   "outputs": [],
   "source": [
    "dataframe_list = {\n",
    "    'AR': df_AR.index.values, \n",
    "    'CL': df_CL.index.values,\n",
    "    'EC': df_EC.index.values,\n",
    "    'ES': df_ES.index.values,\n",
    "    'MX': df_MX.index.values,}\n",
    "index_dict = {key:value for (key,value) in dataframe_list.items()}"
   ]
  },
  {
   "cell_type": "code",
   "execution_count": 31,
   "metadata": {},
   "outputs": [
    {
     "data": {
      "text/plain": [
       "5"
      ]
     },
     "execution_count": 31,
     "metadata": {},
     "output_type": "execute_result"
    }
   ],
   "source": [
    "len(list(index_dict.keys()))"
   ]
  },
  {
   "cell_type": "code",
   "execution_count": 32,
   "metadata": {},
   "outputs": [],
   "source": [
    "for i,j in zip(index_dict.keys(),range(len(list(index_dict.keys())))):\n",
    "    df = pd.DataFrame(index_dict[i])\n",
    "    df.to_csv(f'{list(index_dict.keys())[j]}.csv')"
   ]
  }
 ],
 "metadata": {
  "kernelspec": {
   "display_name": "Python 3.9.12 ('base')",
   "language": "python",
   "name": "python3"
  },
  "language_info": {
   "codemirror_mode": {
    "name": "ipython",
    "version": 3
   },
   "file_extension": ".py",
   "mimetype": "text/x-python",
   "name": "python",
   "nbconvert_exporter": "python",
   "pygments_lexer": "ipython3",
   "version": "3.9.12"
  },
  "orig_nbformat": 4,
  "vscode": {
   "interpreter": {
    "hash": "7758e92e9a61d7a3490898707f7eeb937c85e9d1e8d4e877cc6c187218f226d5"
   }
  }
 },
 "nbformat": 4,
 "nbformat_minor": 2
}
